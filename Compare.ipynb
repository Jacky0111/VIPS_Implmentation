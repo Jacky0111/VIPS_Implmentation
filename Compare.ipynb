{
 "cells": [
  {
   "cell_type": "code",
   "execution_count": 1,
   "metadata": {},
   "outputs": [],
   "source": [
    "import pandas as pd"
   ]
  },
  {
   "cell_type": "code",
   "execution_count": 9,
   "metadata": {},
   "outputs": [
    {
     "name": "stdout",
     "output_type": "stream",
     "text": [
      "Rows     :  1543\n",
      "Columns  :  6\n",
      "Shape    :  (1543, 6)\n",
      "Features :  ['Date', 'Time', 'Type', 'Author', 'Title', 'Content']\n"
     ]
    },
    {
     "data": {
      "text/html": [
       "<div>\n",
       "<style scoped>\n",
       "    .dataframe tbody tr th:only-of-type {\n",
       "        vertical-align: middle;\n",
       "    }\n",
       "\n",
       "    .dataframe tbody tr th {\n",
       "        vertical-align: top;\n",
       "    }\n",
       "\n",
       "    .dataframe thead th {\n",
       "        text-align: right;\n",
       "    }\n",
       "</style>\n",
       "<table border=\"1\" class=\"dataframe\">\n",
       "  <thead>\n",
       "    <tr style=\"text-align: right;\">\n",
       "      <th></th>\n",
       "      <th>Date</th>\n",
       "      <th>Time</th>\n",
       "      <th>Type</th>\n",
       "      <th>Author</th>\n",
       "      <th>Title</th>\n",
       "      <th>Content</th>\n",
       "    </tr>\n",
       "  </thead>\n",
       "  <tbody>\n",
       "    <tr>\n",
       "      <th>0</th>\n",
       "      <td>Saturday, 05 Jun 2021</td>\n",
       "      <td>7:00 AM MYT</td>\n",
       "      <td>News</td>\n",
       "      <td>RAZAK AHMAD</td>\n",
       "      <td>INTERACTIVE: How Malaysia’s fight against Covi...</td>\n",
       "      <td>PETALING JAYA: A total of 3,330,436 Covid-19 v...</td>\n",
       "    </tr>\n",
       "    <tr>\n",
       "      <th>1</th>\n",
       "      <td>Wednesday, 21 Oct 2020</td>\n",
       "      <td>8:00 AM MYT</td>\n",
       "      <td>News</td>\n",
       "      <td>DIYANA PFORDTEN，RAZAK AHMAD</td>\n",
       "      <td>Covid-19: Total cases worldwide</td>\n",
       "      <td>PETALING JAYA: The World Health Organization (...</td>\n",
       "    </tr>\n",
       "    <tr>\n",
       "      <th>2</th>\n",
       "      <td>Wednesday, 02 Jun 2021</td>\n",
       "      <td>7:00 AM MYT</td>\n",
       "      <td>News</td>\n",
       "      <td>DIYANA PFORDTEN</td>\n",
       "      <td>INTERACTIVE: More Covid-19 patients are being ...</td>\n",
       "      <td>PETALING JAYA: The number of people in Malaysi...</td>\n",
       "    </tr>\n",
       "    <tr>\n",
       "      <th>3</th>\n",
       "      <td>Tuesday, 25 May 2021</td>\n",
       "      <td>7:00 AM MYT</td>\n",
       "      <td>News</td>\n",
       "      <td>DIYANA PFORDTEN，RAZAK AHMAD</td>\n",
       "      <td>INTERACTIVE: Malaysian Twitter users rank near...</td>\n",
       "      <td>PETALING JAYA: Computer science graduate Muadz...</td>\n",
       "    </tr>\n",
       "    <tr>\n",
       "      <th>4</th>\n",
       "      <td>Sunday, 23 May 2021</td>\n",
       "      <td>NaN</td>\n",
       "      <td>News</td>\n",
       "      <td>NaN</td>\n",
       "      <td>INTERACTIVE: SUFFERING IN SILENCE</td>\n",
       "      <td>Suffering In SilenceHow the Pandemic is Affect...</td>\n",
       "    </tr>\n",
       "  </tbody>\n",
       "</table>\n",
       "</div>"
      ],
      "text/plain": [
       "                     Date         Time  Type                       Author  \\\n",
       "0   Saturday, 05 Jun 2021  7:00 AM MYT  News                  RAZAK AHMAD   \n",
       "1  Wednesday, 21 Oct 2020  8:00 AM MYT  News  DIYANA PFORDTEN，RAZAK AHMAD   \n",
       "2  Wednesday, 02 Jun 2021  7:00 AM MYT  News              DIYANA PFORDTEN   \n",
       "3    Tuesday, 25 May 2021  7:00 AM MYT  News  DIYANA PFORDTEN，RAZAK AHMAD   \n",
       "4     Sunday, 23 May 2021          NaN  News                          NaN   \n",
       "\n",
       "                                               Title  \\\n",
       "0  INTERACTIVE: How Malaysia’s fight against Covi...   \n",
       "1                    Covid-19: Total cases worldwide   \n",
       "2  INTERACTIVE: More Covid-19 patients are being ...   \n",
       "3  INTERACTIVE: Malaysian Twitter users rank near...   \n",
       "4                  INTERACTIVE: SUFFERING IN SILENCE   \n",
       "\n",
       "                                             Content  \n",
       "0  PETALING JAYA: A total of 3,330,436 Covid-19 v...  \n",
       "1  PETALING JAYA: The World Health Organization (...  \n",
       "2  PETALING JAYA: The number of people in Malaysi...  \n",
       "3  PETALING JAYA: Computer science graduate Muadz...  \n",
       "4  Suffering In SilenceHow the Pandemic is Affect...  "
      ]
     },
     "execution_count": 9,
     "metadata": {},
     "output_type": "execute_result"
    }
   ],
   "source": [
    "web_crawler = pd.read_csv('Web_Crawler_News.csv')\n",
    "print(\"Rows     : \", web_crawler.shape[0])\n",
    "print(\"Columns  : \", web_crawler.shape[1])\n",
    "print(\"Shape    : \", web_crawler.shape)\n",
    "print(\"Features : \", web_crawler.columns.tolist())\n",
    "web_crawler.head()"
   ]
  },
  {
   "cell_type": "code",
   "execution_count": 8,
   "metadata": {},
   "outputs": [
    {
     "name": "stdout",
     "output_type": "stream",
     "text": [
      "Rows     :  124\n",
      "Columns  :  1\n",
      "Shape    :  (124, 1)\n",
      "Features :  ['Content']\n"
     ]
    },
    {
     "data": {
      "text/html": [
       "<div>\n",
       "<style scoped>\n",
       "    .dataframe tbody tr th:only-of-type {\n",
       "        vertical-align: middle;\n",
       "    }\n",
       "\n",
       "    .dataframe tbody tr th {\n",
       "        vertical-align: top;\n",
       "    }\n",
       "\n",
       "    .dataframe thead th {\n",
       "        text-align: right;\n",
       "    }\n",
       "</style>\n",
       "<table border=\"1\" class=\"dataframe\">\n",
       "  <thead>\n",
       "    <tr style=\"text-align: right;\">\n",
       "      <th></th>\n",
       "      <th>Content</th>\n",
       "    </tr>\n",
       "  </thead>\n",
       "  <tbody>\n",
       "    <tr>\n",
       "      <th>0</th>\n",
       "      <td>National diving queen Pandelela Rinong Pamg in...</td>\n",
       "    </tr>\n",
       "    <tr>\n",
       "      <th>1</th>\n",
       "      <td>Asian threat: Japan’s Yudai Nitta (left) and Y...</td>\n",
       "    </tr>\n",
       "    <tr>\n",
       "      <th>2</th>\n",
       "      <td>Tough luck: Mohd Shah Firdaus Sahrom looks on ...</td>\n",
       "    </tr>\n",
       "    <tr>\n",
       "      <th>3</th>\n",
       "      <td>Poland's Patryk Rajkowski crashes next to Mala...</td>\n",
       "    </tr>\n",
       "    <tr>\n",
       "      <th>4</th>\n",
       "      <td>It's over. National diving queen Pandelela Rin...</td>\n",
       "    </tr>\n",
       "  </tbody>\n",
       "</table>\n",
       "</div>"
      ],
      "text/plain": [
       "                                             Content\n",
       "0  National diving queen Pandelela Rinong Pamg in...\n",
       "1  Asian threat: Japan’s Yudai Nitta (left) and Y...\n",
       "2  Tough luck: Mohd Shah Firdaus Sahrom looks on ...\n",
       "3  Poland's Patryk Rajkowski crashes next to Mala...\n",
       "4  It's over. National diving queen Pandelela Rin..."
      ]
     },
     "execution_count": 8,
     "metadata": {},
     "output_type": "execute_result"
    }
   ],
   "source": [
    "vips = pd.read_csv('The_Star_News.csv')\n",
    "print(\"Rows     : \", vips.shape[0])\n",
    "print(\"Columns  : \", vips.shape[1])\n",
    "print(\"Shape    : \", vips.shape)\n",
    "print(\"Features : \", vips.columns.tolist())\n",
    "vips.head()"
   ]
  },
  {
   "cell_type": "code",
   "execution_count": null,
   "metadata": {},
   "outputs": [],
   "source": []
  }
 ],
 "metadata": {
  "kernelspec": {
   "display_name": "Python 3",
   "language": "python",
   "name": "python3"
  },
  "language_info": {
   "codemirror_mode": {
    "name": "ipython",
    "version": 3
   },
   "file_extension": ".py",
   "mimetype": "text/x-python",
   "name": "python",
   "nbconvert_exporter": "python",
   "pygments_lexer": "ipython3",
   "version": "3.8.5"
  }
 },
 "nbformat": 4,
 "nbformat_minor": 4
}
